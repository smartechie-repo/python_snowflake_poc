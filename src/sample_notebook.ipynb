{
 "cells": [
  {
   "cell_type": "code",
   "execution_count": 4,
   "metadata": {},
   "outputs": [],
   "source": [
    "# import require module and credentioal\n",
    "\n",
    "import snowflake.connector\n",
    "import json\n",
    "\n",
    "with open(\"cred.json\",\"r\") as f:\n",
    "    cred = json.load(f)\n",
    "    "
   ]
  },
  {
   "cell_type": "code",
   "execution_count": 2,
   "metadata": {},
   "outputs": [
    {
     "data": {
      "text/plain": [
       "{'userid': 'userid', 'password': 'xxxxx', 'account': 'px00000.ap-southeast-2'}"
      ]
     },
     "execution_count": 2,
     "metadata": {},
     "output_type": "execute_result"
    }
   ],
   "source": [
    "cred\n"
   ]
  },
  {
   "cell_type": "code",
   "execution_count": 5,
   "metadata": {},
   "outputs": [
    {
     "data": {
      "text/plain": [
       "'\\nYou can also set session parameters by executing the SQL statement ALTER SESSION SET ... after connecting:\\n\\ncon.cursor().execute(\"ALTER SESSION SET QUERY_TAG = \\'EndOfMonthFinancials\\'\")\\n\\n\\n'"
      ]
     },
     "execution_count": 5,
     "metadata": {},
     "output_type": "execute_result"
    }
   ],
   "source": [
    "\n",
    "conn = snowflake.connector.connect(\n",
    "    user=cred[\"userid\"],\n",
    "    password=cred[\"password\"],\n",
    "    account=cred[\"account\"],\n",
    "    session_parameters={\n",
    "            \"QUERY_TAG\": \"EndOfMonthFinance\",\n",
    "    }\n",
    ")\n",
    "\"\"\"\n",
    "You can also set session parameters by executing the SQL statement ALTER SESSION SET ... after connecting:\n",
    "\n",
    "con.cursor().execute(\"ALTER SESSION SET QUERY_TAG = 'EndOfMonthFinancials'\")\n",
    "\n",
    "\n",
    "\"\"\""
   ]
  },
  {
   "cell_type": "code",
   "execution_count": 6,
   "metadata": {},
   "outputs": [
    {
     "data": {
      "text/plain": [
       "<snowflake.connector.connection.SnowflakeConnection at 0x1e8c5deed88>"
      ]
     },
     "execution_count": 6,
     "metadata": {},
     "output_type": "execute_result"
    }
   ],
   "source": [
    "conn"
   ]
  },
  {
   "cell_type": "code",
   "execution_count": 7,
   "metadata": {},
   "outputs": [
    {
     "data": {
      "text/plain": [
       "<snowflake.connector.cursor.SnowflakeCursor at 0x1e8c5df67c8>"
      ]
     },
     "execution_count": 7,
     "metadata": {},
     "output_type": "execute_result"
    }
   ],
   "source": [
    "conn.cursor().execute(\"use role accountadmin\")"
   ]
  },
  {
   "cell_type": "code",
   "execution_count": 9,
   "metadata": {},
   "outputs": [
    {
     "data": {
      "text/plain": [
       "<snowflake.connector.cursor.SnowflakeCursor at 0x1e8c5e1d248>"
      ]
     },
     "execution_count": 9,
     "metadata": {},
     "output_type": "execute_result"
    }
   ],
   "source": [
    "# Creating a Database, Schema, and Warehouse\n",
    "conn.cursor().execute(\"CREATE WAREHOUSE IF NOT EXISTS tiny_warehouse_mg\")\n",
    "conn.cursor().execute(\"CREATE DATABASE IF NOT EXISTS testdb_mg\")\n",
    "conn.cursor().execute(\"USE DATABASE testdb_mg\")\n",
    "conn.cursor().execute(\"CREATE SCHEMA IF NOT EXISTS testschema_mg\")\n"
   ]
  },
  {
   "cell_type": "code",
   "execution_count": 10,
   "metadata": {},
   "outputs": [
    {
     "data": {
      "text/plain": [
       "<snowflake.connector.cursor.SnowflakeCursor at 0x1e8c5d00c48>"
      ]
     },
     "execution_count": 10,
     "metadata": {},
     "output_type": "execute_result"
    }
   ],
   "source": [
    "# Using the Database, Schema, and Warehouse\n",
    "conn.cursor().execute(\"USE DATABASE testdb_mg\")\n",
    "conn.cursor().execute(\"USE WAREHOUSE tiny_warehouse_mg\")\n",
    "conn.cursor().execute(\"USE SCHEMA testdb_mg.testschema_mg\")\n"
   ]
  },
  {
   "cell_type": "code",
   "execution_count": 12,
   "metadata": {},
   "outputs": [
    {
     "data": {
      "text/plain": [
       "<snowflake.connector.cursor.SnowflakeCursor at 0x1e8c5df9a88>"
      ]
     },
     "execution_count": 12,
     "metadata": {},
     "output_type": "execute_result"
    }
   ],
   "source": [
    "# Creating Tables and Inserting Data\n",
    "\n",
    "conn.cursor().execute(\n",
    "    \"CREATE OR REPLACE TABLE \"\n",
    "    \"test_table(col1 integer, col2 string)\")\n"
   ]
  },
  {
   "cell_type": "code",
   "execution_count": 13,
   "metadata": {},
   "outputs": [
    {
     "data": {
      "text/plain": [
       "<snowflake.connector.cursor.SnowflakeCursor at 0x1e8c5e14848>"
      ]
     },
     "execution_count": 13,
     "metadata": {},
     "output_type": "execute_result"
    }
   ],
   "source": [
    "conn.cursor().execute(\n",
    "    \"INSERT INTO test_table(col1, col2) VALUES \" +\n",
    "    \"    (123, 'indian Cricket'), \" +\n",
    "    \"    (100, 'Kapil Dev')\")\n"
   ]
  },
  {
   "cell_type": "code",
   "execution_count": 29,
   "metadata": {},
   "outputs": [],
   "source": [
    "conn.cursor().execute(\"INSERT INTO test_table(col1, col2) VALUES (%s, %s)\",('123','indianCricket'));"
   ]
  },
  {
   "cell_type": "code",
   "execution_count": 28,
   "metadata": {},
   "outputs": [
    {
     "name": "stdout",
     "output_type": "stream",
     "text": [
      "VALUES (%s, %s) ('123', 'indianCricket')\n"
     ]
    }
   ],
   "source": [
    "print(\"VALUES (%s, %s)\", ('123','indianCricket'))"
   ]
  },
  {
   "cell_type": "code",
   "execution_count": 32,
   "metadata": {},
   "outputs": [
    {
     "data": {
      "text/plain": [
       "<snowflake.connector.cursor.SnowflakeCursor at 0x1e8c5b5fa88>"
      ]
     },
     "execution_count": 32,
     "metadata": {},
     "output_type": "execute_result"
    }
   ],
   "source": [
    "\n",
    "# Putting Data\n",
    "conn.cursor().execute(\"PUT file://.\\\\data\\\\crick* @testdb_mg.testschema_mg.%test_table\")\n",
    "\n",
    "\n",
    "conn.cursor().execute(\"\"\"COPY INTO test_table from @testdb_mg.testschema_mg.%test_table/crick1.csv.gz\n",
    "                      file_format = (type = csv field_delimiter=',')\n",
    "                        pattern = '.*.csv.gz'\n",
    "                        on_error= 'skip_file'\"\"\")"
   ]
  },
  {
   "cell_type": "code",
   "execution_count": 36,
   "metadata": {},
   "outputs": [
    {
     "name": "stdout",
     "output_type": "stream",
     "text": [
      "100, Kapil Dev\n",
      "101, \"Sachin Tendulkar\"\n",
      "102, \"Rahul Dravid\"\n",
      "103, \"Saurav Ganguly\"\n",
      "123, indian Cricket\n",
      "Connection Close script end\n"
     ]
    }
   ],
   "source": [
    "# Querying Data\n",
    "cur = conn.cursor()\n",
    "\n",
    "try:\n",
    "    cur.execute(\"SELECT col1, col2 FROM test_table ORDER BY col1\")\n",
    "    for (col1, col2) in cur:\n",
    "        print('{0}, {1}'.format(col1, col2))\n",
    "finally:\n",
    "    cur.close()\n",
    "print(\"Connection Close script end\")"
   ]
  },
  {
   "cell_type": "code",
   "execution_count": null,
   "metadata": {},
   "outputs": [],
   "source": [
    "\n"
   ]
  }
 ],
 "metadata": {
  "kernelspec": {
   "display_name": "Python 3",
   "language": "python",
   "name": "python3"
  },
  "language_info": {
   "codemirror_mode": {
    "name": "ipython",
    "version": 3
   },
   "file_extension": ".py",
   "mimetype": "text/x-python",
   "name": "python",
   "nbconvert_exporter": "python",
   "pygments_lexer": "ipython3",
   "version": "3.7.4"
  }
 },
 "nbformat": 4,
 "nbformat_minor": 2
}
